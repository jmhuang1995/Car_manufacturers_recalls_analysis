{
 "cells": [
  {
   "cell_type": "code",
   "execution_count": 1,
   "metadata": {
    "collapsed": true
   },
   "outputs": [],
   "source": [
    "import matplotlib.pyplot as plt\n",
    "import requests\n",
    "from scipy import stats\n",
    "import pandas as pd\n"
   ]
  },
  {
   "cell_type": "code",
   "execution_count": 91,
   "metadata": {},
   "outputs": [
    {
     "data": {
      "text/html": [
       "<div>\n",
       "<style scoped>\n",
       "    .dataframe tbody tr th:only-of-type {\n",
       "        vertical-align: middle;\n",
       "    }\n",
       "\n",
       "    .dataframe tbody tr th {\n",
       "        vertical-align: top;\n",
       "    }\n",
       "\n",
       "    .dataframe thead th {\n",
       "        text-align: right;\n",
       "    }\n",
       "</style>\n",
       "<table border=\"1\" class=\"dataframe\">\n",
       "  <thead>\n",
       "    <tr style=\"text-align: right;\">\n",
       "      <th></th>\n",
       "      <th>Makes</th>\n",
       "      <th>Total Count</th>\n",
       "      <th>Percentage</th>\n",
       "    </tr>\n",
       "  </thead>\n",
       "  <tbody>\n",
       "    <tr>\n",
       "      <th>0</th>\n",
       "      <td>Ford</td>\n",
       "      <td>1089</td>\n",
       "      <td>3.12%</td>\n",
       "    </tr>\n",
       "    <tr>\n",
       "      <th>1</th>\n",
       "      <td>Peterbilt</td>\n",
       "      <td>1071</td>\n",
       "      <td>3.07%</td>\n",
       "    </tr>\n",
       "    <tr>\n",
       "      <th>2</th>\n",
       "      <td>Freightliner</td>\n",
       "      <td>913</td>\n",
       "      <td>2.61%</td>\n",
       "    </tr>\n",
       "    <tr>\n",
       "      <th>3</th>\n",
       "      <td>Toyota</td>\n",
       "      <td>817</td>\n",
       "      <td>2.34%</td>\n",
       "    </tr>\n",
       "    <tr>\n",
       "      <th>4</th>\n",
       "      <td>Chevrolet</td>\n",
       "      <td>723</td>\n",
       "      <td>2.07%</td>\n",
       "    </tr>\n",
       "  </tbody>\n",
       "</table>\n",
       "</div>"
      ],
      "text/plain": [
       "          Makes  Total Count Percentage\n",
       "0          Ford         1089      3.12%\n",
       "1     Peterbilt         1071      3.07%\n",
       "2  Freightliner          913      2.61%\n",
       "3        Toyota          817      2.34%\n",
       "4     Chevrolet          723      2.07%"
      ]
     },
     "execution_count": 91,
     "metadata": {},
     "output_type": "execute_result"
    }
   ],
   "source": [
    "test = pd.read_csv(\"recall_dataset.csv\")\n",
    "test2 = test.loc[(test['Model Year'] >= 2008) & (test['Model Year'] < 9999)& (test['Recall Type'] == 'VEHICLE')  ]\n",
    "test2.head()\n",
    "count = test2['Vehicle Make'].value_counts()\n",
    "total = count.sum()\n",
    "ford_count = count[0]\n",
    "peterbilt_count = count[1]\n",
    "freightliner_count = count[2]\n",
    "toyota_count = count[3]\n",
    "chevrolet_count = count[4]\n",
    "\n",
    "perc_ford = round((ford_count/total) * 100,2)\n",
    "perc_peterbilt = round((peterbilt_count/total) * 100,2)\n",
    "perc_freightliner = round((freightliner_count/total) * 100,2)\n",
    "perc_toyota = round((toyota_count/total) * 100,2)\n",
    "perc_chevrolet = round((chevrolet_count/total) * 100,2)\n",
    "\n",
    "veh_make_allyear = pd.DataFrame({\"Makes\":[\"Ford\",\"Peterbilt\",\"Freightliner\",\"Toyota\",\"Chevrolet\"],\"Total Count\":[ford_count,peterbilt_count,freightliner_count,toyota_count,chevrolet_count],\"Percentage\":[perc_ford,perc_peterbilt,perc_freightliner,perc_toyota,perc_chevrolet]})\n",
    "\n",
    "veh_make_allyear[\"Percentage\"] = veh_make_allyear[\"Percentage\"].map(\"{:.2f}%\".format)\n",
    "\n",
    "veh_make_allyear\n",
    "\n",
    "\n",
    "\n"
   ]
  },
  {
   "cell_type": "code",
   "execution_count": null,
   "metadata": {
    "collapsed": true
   },
   "outputs": [],
   "source": [
    "\n"
   ]
  },
  {
   "cell_type": "code",
   "execution_count": null,
   "metadata": {
    "collapsed": true
   },
   "outputs": [],
   "source": []
  },
  {
   "cell_type": "code",
   "execution_count": null,
   "metadata": {
    "collapsed": true
   },
   "outputs": [],
   "source": [
    "\n"
   ]
  },
  {
   "cell_type": "code",
   "execution_count": null,
   "metadata": {
    "collapsed": true
   },
   "outputs": [],
   "source": []
  },
  {
   "cell_type": "code",
   "execution_count": null,
   "metadata": {
    "collapsed": true
   },
   "outputs": [],
   "source": [
    "\n",
    "\n",
    "\n"
   ]
  },
  {
   "cell_type": "code",
   "execution_count": null,
   "metadata": {
    "collapsed": true
   },
   "outputs": [],
   "source": []
  }
 ],
 "metadata": {
  "kernelspec": {
   "display_name": "Python 3",
   "language": "python",
   "name": "python3"
  },
  "language_info": {
   "codemirror_mode": {
    "name": "ipython",
    "version": 3
   },
   "file_extension": ".py",
   "mimetype": "text/x-python",
   "name": "python",
   "nbconvert_exporter": "python",
   "pygments_lexer": "ipython3",
   "version": "3.8.5"
  }
 },
 "nbformat": 4,
 "nbformat_minor": 4
}
