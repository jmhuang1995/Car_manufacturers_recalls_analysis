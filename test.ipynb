{
 "cells": [
  {
   "cell_type": "code",
   "execution_count": null,
   "metadata": {},
   "outputs": [],
   "source": [
    "import matplotlib.pyplot as plt\n",
    "import requests\n",
    "from scipy import stats\n",
    "import pandas as pd\n"
   ]
  },
  {
   "cell_type": "code",
   "execution_count": null,
   "metadata": {},
   "outputs": [],
   "source": [
    "test = pd.read_csv(\"recall_dataset.csv\")\n",
    "test2 = test.loc[(test['Model Year'] >= 2008) & (test['Model Year'] < 9999)& (test['Recall Type'] == 'VEHICLE')  ]\n",
    "test2.head()\n",
    "count = test2['Vehicle Make'].value_counts()\n",
    "total = count.sum()\n",
    "ford_count = count[0]\n",
    "peterbilt_count = count[1]\n",
    "freightliner_count = count[2]\n",
    "toyota_count = count[3]\n",
    "chevrolet_count = count[4]\n",
    "\n",
    "perc_ford = round((ford_count/total) * 100,2)\n",
    "perc_peterbilt = round((peterbilt_count/total) * 100,2)\n",
    "perc_freightliner = round((freightliner_count/total) * 100,2)\n",
    "perc_toyota = round((toyota_count/total) * 100,2)\n",
    "perc_chevrolet = round((chevrolet_count/total) * 100,2)\n",
    "\n",
    "veh_make_allyear = pd.DataFrame({\"Makes\":[\"Ford\",\"Peterbilt\",\"Freightliner\",\"Toyota\",\"Chevrolet\"],\"Total Count\":[ford_count,peterbilt_count,freightliner_count,toyota_count,chevrolet_count],\"Percentage\":[perc_ford,perc_peterbilt,perc_freightliner,perc_toyota,perc_chevrolet]})\n",
    "\n",
    "veh_make_allyear[\"Percentage\"] = veh_make_allyear[\"Percentage\"].map(\"{:.2f}%\".format)\n",
    "\n",
    "veh_make_allyear\n"
   ]
  }
 ],
 "metadata": {
  "kernelspec": {
   "display_name": "Python 3",
   "language": "python",
   "name": "python3"
  },
  "language_info": {
   "codemirror_mode": {
    "name": "ipython",
    "version": 3
   },
   "file_extension": ".py",
   "mimetype": "text/x-python",
   "name": "python",
   "nbconvert_exporter": "python",
   "pygments_lexer": "ipython3",
   "version": "3.8.5"
  }
 },
 "nbformat": 4,
 "nbformat_minor": 4
}
