{
 "cells": [
  {
   "cell_type": "code",
   "execution_count": 3,
   "metadata": {},
   "outputs": [],
   "source": [
    "import matplotlib.pyplot as plt\n",
    "import requests\n",
    "from scipy import stats\n",
    "import pandas as pd\n"
   ]
  },
  {
   "cell_type": "code",
   "execution_count": 4,
   "metadata": {},
   "outputs": [
    {
     "data": {
      "text/html": [
       "<div>\n",
       "<style scoped>\n",
       "    .dataframe tbody tr th:only-of-type {\n",
       "        vertical-align: middle;\n",
       "    }\n",
       "\n",
       "    .dataframe tbody tr th {\n",
       "        vertical-align: top;\n",
       "    }\n",
       "\n",
       "    .dataframe thead th {\n",
       "        text-align: right;\n",
       "    }\n",
       "</style>\n",
       "<table border=\"1\" class=\"dataframe\">\n",
       "  <thead>\n",
       "    <tr style=\"text-align: right;\">\n",
       "      <th></th>\n",
       "      <th>Makes</th>\n",
       "      <th>Total Count</th>\n",
       "      <th>Percentage</th>\n",
       "    </tr>\n",
       "  </thead>\n",
       "  <tbody>\n",
       "    <tr>\n",
       "      <th>0</th>\n",
       "      <td>Ford</td>\n",
       "      <td>1089</td>\n",
       "      <td>3.12%</td>\n",
       "    </tr>\n",
       "    <tr>\n",
       "      <th>1</th>\n",
       "      <td>Peterbilt</td>\n",
       "      <td>1071</td>\n",
       "      <td>3.07%</td>\n",
       "    </tr>\n",
       "    <tr>\n",
       "      <th>2</th>\n",
       "      <td>Freightliner</td>\n",
       "      <td>913</td>\n",
       "      <td>2.61%</td>\n",
       "    </tr>\n",
       "    <tr>\n",
       "      <th>3</th>\n",
       "      <td>Toyota</td>\n",
       "      <td>817</td>\n",
       "      <td>2.34%</td>\n",
       "    </tr>\n",
       "    <tr>\n",
       "      <th>4</th>\n",
       "      <td>Chevrolet</td>\n",
       "      <td>723</td>\n",
       "      <td>2.07%</td>\n",
       "    </tr>\n",
       "  </tbody>\n",
       "</table>\n",
       "</div>"
      ],
      "text/plain": [
       "          Makes  Total Count Percentage\n",
       "0          Ford         1089      3.12%\n",
       "1     Peterbilt         1071      3.07%\n",
       "2  Freightliner          913      2.61%\n",
       "3        Toyota          817      2.34%\n",
       "4     Chevrolet          723      2.07%"
      ]
     },
     "execution_count": 4,
     "metadata": {},
     "output_type": "execute_result"
    }
   ],
   "source": [
    "test = pd.read_csv(\"recall_dataset.csv\")\n",
    "test2 = test.loc[(test['Model Year'] >= 2008) & (test['Model Year'] < 9999)& (test['Recall Type'] == 'VEHICLE')  ]\n",
    "test2.head()\n",
    "count = test2['Vehicle Make'].value_counts()\n",
    "total = count.sum()\n",
    "ford_count = count[0]\n",
    "peterbilt_count = count[1]\n",
    "freightliner_count = count[2]\n",
    "toyota_count = count[3]\n",
    "chevrolet_count = count[4]\n",
    "\n",
    "perc_ford = round((ford_count/total) * 100,2)\n",
    "perc_peterbilt = round((peterbilt_count/total) * 100,2)\n",
    "perc_freightliner = round((freightliner_count/total) * 100,2)\n",
    "perc_toyota = round((toyota_count/total) * 100,2)\n",
    "perc_chevrolet = round((chevrolet_count/total) * 100,2)\n",
    "\n",
    "veh_make_allyear = pd.DataFrame({\"Makes\":[\"Ford\",\"Peterbilt\",\"Freightliner\",\"Toyota\",\"Chevrolet\"],\"Total Count\":[ford_count,peterbilt_count,freightliner_count,toyota_count,chevrolet_count],\"Percentage\":[perc_ford,perc_peterbilt,perc_freightliner,perc_toyota,perc_chevrolet]})\n",
    "\n",
    "veh_make_allyear[\"Percentage\"] = veh_make_allyear[\"Percentage\"].map(\"{:.2f}%\".format)\n",
    "\n",
    "veh_make_allyear\n",
    "\n",
    "\n",
    "\n"
   ]
  },
  {
   "cell_type": "code",
   "execution_count": 50,
   "metadata": {},
   "outputs": [
    {
     "data": {
      "text/html": [
       "<div>\n",
       "<style scoped>\n",
       "    .dataframe tbody tr th:only-of-type {\n",
       "        vertical-align: middle;\n",
       "    }\n",
       "\n",
       "    .dataframe tbody tr th {\n",
       "        vertical-align: top;\n",
       "    }\n",
       "\n",
       "    .dataframe thead th {\n",
       "        text-align: right;\n",
       "    }\n",
       "</style>\n",
       "<table border=\"1\" class=\"dataframe\">\n",
       "  <thead>\n",
       "    <tr style=\"text-align: right;\">\n",
       "      <th></th>\n",
       "      <th>Total Count</th>\n",
       "    </tr>\n",
       "  </thead>\n",
       "  <tbody>\n",
       "    <tr>\n",
       "      <th>count</th>\n",
       "      <td>5.000000</td>\n",
       "    </tr>\n",
       "    <tr>\n",
       "      <th>mean</th>\n",
       "      <td>922.600000</td>\n",
       "    </tr>\n",
       "    <tr>\n",
       "      <th>std</th>\n",
       "      <td>158.741299</td>\n",
       "    </tr>\n",
       "    <tr>\n",
       "      <th>min</th>\n",
       "      <td>723.000000</td>\n",
       "    </tr>\n",
       "    <tr>\n",
       "      <th>25%</th>\n",
       "      <td>817.000000</td>\n",
       "    </tr>\n",
       "    <tr>\n",
       "      <th>50%</th>\n",
       "      <td>913.000000</td>\n",
       "    </tr>\n",
       "    <tr>\n",
       "      <th>75%</th>\n",
       "      <td>1071.000000</td>\n",
       "    </tr>\n",
       "    <tr>\n",
       "      <th>max</th>\n",
       "      <td>1089.000000</td>\n",
       "    </tr>\n",
       "  </tbody>\n",
       "</table>\n",
       "</div>"
      ],
      "text/plain": [
       "       Total Count\n",
       "count     5.000000\n",
       "mean    922.600000\n",
       "std     158.741299\n",
       "min     723.000000\n",
       "25%     817.000000\n",
       "50%     913.000000\n",
       "75%    1071.000000\n",
       "max    1089.000000"
      ]
     },
     "execution_count": 50,
     "metadata": {},
     "output_type": "execute_result"
    }
   ],
   "source": [
    "# Describe recall data for all makes\n",
    "veh_make_allyear.describe()"
   ]
  },
  {
   "cell_type": "code",
   "execution_count": 5,
   "metadata": {},
   "outputs": [
    {
     "data": {
      "image/png": "[encoded data removed]",
      "text/plain": [
       "<Figure size 720x216 with 1 Axes>"
      ]
     },
     "metadata": {
      "needs_background": "light"
     },
     "output_type": "display_data"
    }
   ],
   "source": [
    "# Car Recalls\n",
    "car_manufacturers = pd.DataFrame(veh_make_allyear.groupby([\"Makes\"]).sum()).reset_index()\n",
    "\n",
    "car_recalls_df = car_manufacturers[[\"Makes\", \"Total Count\"]]\n",
    "car_recalls_df = car_recalls_df.set_index(\"Makes\")\n",
    "\n",
    "\n",
    "#Bar plot showing the total number of recalls per car manufacturer\n",
    "car_recalls_df.plot(kind=\"bar\", figsize=(10,3))\n",
    "\n",
    "plt.title(\"Recall of Top 5 Car Manufacturers from 2008-2018\")\n",
    "plt.xlabel(\"Makes\")\n",
    "plt.ylabel(\"Recalls\")\n",
    "\n",
    "plt.savefig('Output/RecallofTop5CarManufacturersfrom2008-2018')\n",
    "plt.show()"
   ]
  },
  {
   "cell_type": "code",
   "execution_count": 6,
   "metadata": {},
   "outputs": [
    {
     "data": {
      "text/html": [
       "<div>\n",
       "<style scoped>\n",
       "    .dataframe tbody tr th:only-of-type {\n",
       "        vertical-align: middle;\n",
       "    }\n",
       "\n",
       "    .dataframe tbody tr th {\n",
       "        vertical-align: top;\n",
       "    }\n",
       "\n",
       "    .dataframe thead th {\n",
       "        text-align: right;\n",
       "    }\n",
       "</style>\n",
       "<table border=\"1\" class=\"dataframe\">\n",
       "  <thead>\n",
       "    <tr style=\"text-align: right;\">\n",
       "      <th></th>\n",
       "      <th>Model Year</th>\n",
       "    </tr>\n",
       "  </thead>\n",
       "  <tbody>\n",
       "    <tr>\n",
       "      <th>2008</th>\n",
       "      <td>145</td>\n",
       "    </tr>\n",
       "    <tr>\n",
       "      <th>2009</th>\n",
       "      <td>133</td>\n",
       "    </tr>\n",
       "    <tr>\n",
       "      <th>2010</th>\n",
       "      <td>111</td>\n",
       "    </tr>\n",
       "    <tr>\n",
       "      <th>2011</th>\n",
       "      <td>157</td>\n",
       "    </tr>\n",
       "    <tr>\n",
       "      <th>2012</th>\n",
       "      <td>135</td>\n",
       "    </tr>\n",
       "    <tr>\n",
       "      <th>2013</th>\n",
       "      <td>160</td>\n",
       "    </tr>\n",
       "    <tr>\n",
       "      <th>2014</th>\n",
       "      <td>115</td>\n",
       "    </tr>\n",
       "    <tr>\n",
       "      <th>2015</th>\n",
       "      <td>71</td>\n",
       "    </tr>\n",
       "    <tr>\n",
       "      <th>2016</th>\n",
       "      <td>45</td>\n",
       "    </tr>\n",
       "    <tr>\n",
       "      <th>2017</th>\n",
       "      <td>17</td>\n",
       "    </tr>\n",
       "  </tbody>\n",
       "</table>\n",
       "</div>"
      ],
      "text/plain": [
       "      Model Year\n",
       "2008         145\n",
       "2009         133\n",
       "2010         111\n",
       "2011         157\n",
       "2012         135\n",
       "2013         160\n",
       "2014         115\n",
       "2015          71\n",
       "2016          45\n",
       "2017          17"
      ]
     },
     "execution_count": 6,
     "metadata": {},
     "output_type": "execute_result"
    }
   ],
   "source": [
    "ford_make_year = test.loc[(test['Model Year'] >= 2008) & (test['Model Year'] < 9999)& (test['Recall Type'] == 'VEHICLE') ]\n",
    "\n",
    "ford_make_year2 = ford_make_year.loc[(ford_make_year['Vehicle Make'] == 'FORD')]\n",
    "\n",
    "ford_make_year_count = (ford_make_year2[\"Model Year\"].value_counts())\n",
    "#(ford_make_year_count.sort_index()).to_frame()\n",
    "ford_df = ford_make_year_count\n",
    "ford_make_year_count = (ford_make_year_count.sort_index()).to_frame()\n",
    "ford_make_year_count"
   ]
  },
  {
   "cell_type": "code",
   "execution_count": 51,
   "metadata": {},
   "outputs": [
    {
     "data": {
      "text/html": [
       "<div>\n",
       "<style scoped>\n",
       "    .dataframe tbody tr th:only-of-type {\n",
       "        vertical-align: middle;\n",
       "    }\n",
       "\n",
       "    .dataframe tbody tr th {\n",
       "        vertical-align: top;\n",
       "    }\n",
       "\n",
       "    .dataframe thead th {\n",
       "        text-align: right;\n",
       "    }\n",
       "</style>\n",
       "<table border=\"1\" class=\"dataframe\">\n",
       "  <thead>\n",
       "    <tr style=\"text-align: right;\">\n",
       "      <th></th>\n",
       "      <th>Model Year</th>\n",
       "    </tr>\n",
       "  </thead>\n",
       "  <tbody>\n",
       "    <tr>\n",
       "      <th>count</th>\n",
       "      <td>10.000000</td>\n",
       "    </tr>\n",
       "    <tr>\n",
       "      <th>mean</th>\n",
       "      <td>108.900000</td>\n",
       "    </tr>\n",
       "    <tr>\n",
       "      <th>std</th>\n",
       "      <td>48.872737</td>\n",
       "    </tr>\n",
       "    <tr>\n",
       "      <th>min</th>\n",
       "      <td>17.000000</td>\n",
       "    </tr>\n",
       "    <tr>\n",
       "      <th>25%</th>\n",
       "      <td>81.000000</td>\n",
       "    </tr>\n",
       "    <tr>\n",
       "      <th>50%</th>\n",
       "      <td>124.000000</td>\n",
       "    </tr>\n",
       "    <tr>\n",
       "      <th>75%</th>\n",
       "      <td>142.500000</td>\n",
       "    </tr>\n",
       "    <tr>\n",
       "      <th>max</th>\n",
       "      <td>160.000000</td>\n",
       "    </tr>\n",
       "  </tbody>\n",
       "</table>\n",
       "</div>"
      ],
      "text/plain": [
       "       Model Year\n",
       "count   10.000000\n",
       "mean   108.900000\n",
       "std     48.872737\n",
       "min     17.000000\n",
       "25%     81.000000\n",
       "50%    124.000000\n",
       "75%    142.500000\n",
       "max    160.000000"
      ]
     },
     "execution_count": 51,
     "metadata": {},
     "output_type": "execute_result"
    }
   ],
   "source": [
    "# Describe recall data for Ford\n",
    "ford_make_year_count.describe()"
   ]
  },
  {
   "cell_type": "code",
   "execution_count": 14,
   "metadata": {},
   "outputs": [
    {
     "data": {
      "image/png": "[encoded data removed]",
      "text/plain": [
       "<Figure size 432x288 with 1 Axes>"
      ]
     },
     "metadata": {
      "needs_background": "light"
     },
     "output_type": "display_data"
    }
   ],
   "source": [
    "#Ford Recalls Bar Graph\n",
    "ford_make_year_count.sort_index().plot(kind = \"bar\")\n",
    "plt.title('Ford Recalls')\n",
    "plt.xlabel('Year')\n",
    "plt.ylabel('Recalls')\n",
    "\n",
    "plt.savefig('Output/FordRecalls')\n",
    "plt.show()"
   ]
  },
  {
   "cell_type": "code",
   "execution_count": 15,
   "metadata": {},
   "outputs": [
    {
     "data": {
      "text/html": [
       "<div>\n",
       "<style scoped>\n",
       "    .dataframe tbody tr th:only-of-type {\n",
       "        vertical-align: middle;\n",
       "    }\n",
       "\n",
       "    .dataframe tbody tr th {\n",
       "        vertical-align: top;\n",
       "    }\n",
       "\n",
       "    .dataframe thead th {\n",
       "        text-align: right;\n",
       "    }\n",
       "</style>\n",
       "<table border=\"1\" class=\"dataframe\">\n",
       "  <thead>\n",
       "    <tr style=\"text-align: right;\">\n",
       "      <th></th>\n",
       "      <th>Model Year</th>\n",
       "    </tr>\n",
       "  </thead>\n",
       "  <tbody>\n",
       "    <tr>\n",
       "      <th>2008</th>\n",
       "      <td>173</td>\n",
       "    </tr>\n",
       "    <tr>\n",
       "      <th>2009</th>\n",
       "      <td>125</td>\n",
       "    </tr>\n",
       "    <tr>\n",
       "      <th>2010</th>\n",
       "      <td>102</td>\n",
       "    </tr>\n",
       "    <tr>\n",
       "      <th>2011</th>\n",
       "      <td>106</td>\n",
       "    </tr>\n",
       "    <tr>\n",
       "      <th>2012</th>\n",
       "      <td>112</td>\n",
       "    </tr>\n",
       "    <tr>\n",
       "      <th>2013</th>\n",
       "      <td>123</td>\n",
       "    </tr>\n",
       "    <tr>\n",
       "      <th>2014</th>\n",
       "      <td>123</td>\n",
       "    </tr>\n",
       "    <tr>\n",
       "      <th>2015</th>\n",
       "      <td>109</td>\n",
       "    </tr>\n",
       "    <tr>\n",
       "      <th>2016</th>\n",
       "      <td>73</td>\n",
       "    </tr>\n",
       "    <tr>\n",
       "      <th>2017</th>\n",
       "      <td>25</td>\n",
       "    </tr>\n",
       "  </tbody>\n",
       "</table>\n",
       "</div>"
      ],
      "text/plain": [
       "      Model Year\n",
       "2008         173\n",
       "2009         125\n",
       "2010         102\n",
       "2011         106\n",
       "2012         112\n",
       "2013         123\n",
       "2014         123\n",
       "2015         109\n",
       "2016          73\n",
       "2017          25"
      ]
     },
     "execution_count": 15,
     "metadata": {},
     "output_type": "execute_result"
    }
   ],
   "source": [
    "Peterbilt_make_year = test.loc[(test['Model Year'] >= 2008) & (test['Model Year'] < 9999)& (test['Recall Type'] == 'VEHICLE') ]\n",
    "\n",
    "Peterbilt_make_year2 = Peterbilt_make_year.loc[(Peterbilt_make_year['Vehicle Make'] == 'PETERBILT')]\n",
    "\n",
    "Peterbilt_make_year_count = (Peterbilt_make_year2[\"Model Year\"].value_counts())\n",
    "(Peterbilt_make_year_count.sort_index()).to_frame()"
   ]
  },
  {
   "cell_type": "code",
   "execution_count": 52,
   "metadata": {},
   "outputs": [
    {
     "data": {
      "text/plain": [
       "count     10.000000\n",
       "mean     107.100000\n",
       "std       38.190895\n",
       "min       25.000000\n",
       "25%      103.000000\n",
       "50%      110.500000\n",
       "75%      123.000000\n",
       "max      173.000000\n",
       "Name: Model Year, dtype: float64"
      ]
     },
     "execution_count": 52,
     "metadata": {},
     "output_type": "execute_result"
    }
   ],
   "source": [
    "# Describe recall data for Peterbilt\n",
    "Peterbilt_make_year_count.describe()"
   ]
  },
  {
   "cell_type": "code",
   "execution_count": 16,
   "metadata": {},
   "outputs": [
    {
     "data": {
      "image/png": "[encoded data removed]",
      "text/plain": [
       "<Figure size 432x288 with 1 Axes>"
      ]
     },
     "metadata": {
      "needs_background": "light"
     },
     "output_type": "display_data"
    }
   ],
   "source": [
    "Peterbilt_make_year_count.sort_index().plot(kind = \"bar\")\n",
    "plt.title('Peterbilt Recalls')\n",
    "plt.xlabel('Year')\n",
    "plt.ylabel('Recalls')\n",
    "\n",
    "plt.savefig('Output/PeterbiltRecalls')\n",
    "plt.show()"
   ]
  },
  {
   "cell_type": "code",
   "execution_count": 17,
   "metadata": {},
   "outputs": [
    {
     "data": {
      "text/html": [
       "<div>\n",
       "<style scoped>\n",
       "    .dataframe tbody tr th:only-of-type {\n",
       "        vertical-align: middle;\n",
       "    }\n",
       "\n",
       "    .dataframe tbody tr th {\n",
       "        vertical-align: top;\n",
       "    }\n",
       "\n",
       "    .dataframe thead th {\n",
       "        text-align: right;\n",
       "    }\n",
       "</style>\n",
       "<table border=\"1\" class=\"dataframe\">\n",
       "  <thead>\n",
       "    <tr style=\"text-align: right;\">\n",
       "      <th></th>\n",
       "      <th>Model Year</th>\n",
       "    </tr>\n",
       "  </thead>\n",
       "  <tbody>\n",
       "    <tr>\n",
       "      <th>2008</th>\n",
       "      <td>171</td>\n",
       "    </tr>\n",
       "    <tr>\n",
       "      <th>2009</th>\n",
       "      <td>114</td>\n",
       "    </tr>\n",
       "    <tr>\n",
       "      <th>2010</th>\n",
       "      <td>122</td>\n",
       "    </tr>\n",
       "    <tr>\n",
       "      <th>2011</th>\n",
       "      <td>116</td>\n",
       "    </tr>\n",
       "    <tr>\n",
       "      <th>2012</th>\n",
       "      <td>83</td>\n",
       "    </tr>\n",
       "    <tr>\n",
       "      <th>2013</th>\n",
       "      <td>72</td>\n",
       "    </tr>\n",
       "    <tr>\n",
       "      <th>2014</th>\n",
       "      <td>74</td>\n",
       "    </tr>\n",
       "    <tr>\n",
       "      <th>2015</th>\n",
       "      <td>75</td>\n",
       "    </tr>\n",
       "    <tr>\n",
       "      <th>2016</th>\n",
       "      <td>64</td>\n",
       "    </tr>\n",
       "    <tr>\n",
       "      <th>2017</th>\n",
       "      <td>22</td>\n",
       "    </tr>\n",
       "  </tbody>\n",
       "</table>\n",
       "</div>"
      ],
      "text/plain": [
       "      Model Year\n",
       "2008         171\n",
       "2009         114\n",
       "2010         122\n",
       "2011         116\n",
       "2012          83\n",
       "2013          72\n",
       "2014          74\n",
       "2015          75\n",
       "2016          64\n",
       "2017          22"
      ]
     },
     "execution_count": 17,
     "metadata": {},
     "output_type": "execute_result"
    }
   ],
   "source": [
    "freightliner_make_year = test.loc[(test['Model Year'] >= 2008) & (test['Model Year'] < 9999)& (test['Recall Type'] == 'VEHICLE') ]\n",
    "\n",
    "freightliner_make_year2 = freightliner_make_year.loc[(freightliner_make_year['Vehicle Make'] == 'FREIGHTLINER')]\n",
    "\n",
    "freightliner_make_year_count = (freightliner_make_year2[\"Model Year\"].value_counts())\n",
    "(freightliner_make_year_count.sort_index()).to_frame()\n",
    "\n"
   ]
  },
  {
   "cell_type": "code",
   "execution_count": 53,
   "metadata": {},
   "outputs": [
    {
     "data": {
      "text/plain": [
       "count     10.000000\n",
       "mean      91.300000\n",
       "std       40.789568\n",
       "min       22.000000\n",
       "25%       72.500000\n",
       "50%       79.000000\n",
       "75%      115.500000\n",
       "max      171.000000\n",
       "Name: Model Year, dtype: float64"
      ]
     },
     "execution_count": 53,
     "metadata": {},
     "output_type": "execute_result"
    }
   ],
   "source": [
    "# Describe recall data for Freightliner\n",
    "freightliner_make_year_count.describe()"
   ]
  },
  {
   "cell_type": "code",
   "execution_count": 18,
   "metadata": {},
   "outputs": [
    {
     "data": {
      "image/png": "[encoded data removed]",
      "text/plain": [
       "<Figure size 432x288 with 1 Axes>"
      ]
     },
     "metadata": {
      "needs_background": "light"
     },
     "output_type": "display_data"
    }
   ],
   "source": [
    "freightliner_make_year_count.sort_index().plot(kind = \"bar\")\n",
    "plt.title('Freightliner Recalls')\n",
    "plt.xlabel('Year')\n",
    "plt.ylabel('Recalls')\n",
    "\n",
    "plt.savefig('Output/FreightlinerRecalls')\n",
    "plt.show()"
   ]
  },
  {
   "cell_type": "code",
   "execution_count": 19,
   "metadata": {},
   "outputs": [
    {
     "data": {
      "text/html": [
       "<div>\n",
       "<style scoped>\n",
       "    .dataframe tbody tr th:only-of-type {\n",
       "        vertical-align: middle;\n",
       "    }\n",
       "\n",
       "    .dataframe tbody tr th {\n",
       "        vertical-align: top;\n",
       "    }\n",
       "\n",
       "    .dataframe thead th {\n",
       "        text-align: right;\n",
       "    }\n",
       "</style>\n",
       "<table border=\"1\" class=\"dataframe\">\n",
       "  <thead>\n",
       "    <tr style=\"text-align: right;\">\n",
       "      <th></th>\n",
       "      <th>Model Year</th>\n",
       "    </tr>\n",
       "  </thead>\n",
       "  <tbody>\n",
       "    <tr>\n",
       "      <th>2008</th>\n",
       "      <td>130</td>\n",
       "    </tr>\n",
       "    <tr>\n",
       "      <th>2009</th>\n",
       "      <td>167</td>\n",
       "    </tr>\n",
       "    <tr>\n",
       "      <th>2010</th>\n",
       "      <td>175</td>\n",
       "    </tr>\n",
       "    <tr>\n",
       "      <th>2011</th>\n",
       "      <td>109</td>\n",
       "    </tr>\n",
       "    <tr>\n",
       "      <th>2012</th>\n",
       "      <td>79</td>\n",
       "    </tr>\n",
       "    <tr>\n",
       "      <th>2013</th>\n",
       "      <td>52</td>\n",
       "    </tr>\n",
       "    <tr>\n",
       "      <th>2014</th>\n",
       "      <td>44</td>\n",
       "    </tr>\n",
       "    <tr>\n",
       "      <th>2015</th>\n",
       "      <td>30</td>\n",
       "    </tr>\n",
       "    <tr>\n",
       "      <th>2016</th>\n",
       "      <td>26</td>\n",
       "    </tr>\n",
       "    <tr>\n",
       "      <th>2017</th>\n",
       "      <td>5</td>\n",
       "    </tr>\n",
       "  </tbody>\n",
       "</table>\n",
       "</div>"
      ],
      "text/plain": [
       "      Model Year\n",
       "2008         130\n",
       "2009         167\n",
       "2010         175\n",
       "2011         109\n",
       "2012          79\n",
       "2013          52\n",
       "2014          44\n",
       "2015          30\n",
       "2016          26\n",
       "2017           5"
      ]
     },
     "execution_count": 19,
     "metadata": {},
     "output_type": "execute_result"
    }
   ],
   "source": [
    "toyota_make_year = test.loc[(test['Model Year'] >= 2008) & (test['Model Year'] < 9999)& (test['Recall Type'] == 'VEHICLE') ]\n",
    "\n",
    "toyota_make_year2 = toyota_make_year.loc[(toyota_make_year['Vehicle Make'] == 'TOYOTA')]\n",
    "\n",
    "toyota_make_year_count = (toyota_make_year2[\"Model Year\"].value_counts())\n",
    "(toyota_make_year_count.sort_index()).to_frame()\n"
   ]
  },
  {
   "cell_type": "code",
   "execution_count": 54,
   "metadata": {},
   "outputs": [
    {
     "data": {
      "text/plain": [
       "count     10.000000\n",
       "mean      81.700000\n",
       "std       60.578782\n",
       "min        5.000000\n",
       "25%       33.500000\n",
       "50%       65.500000\n",
       "75%      124.750000\n",
       "max      175.000000\n",
       "Name: Model Year, dtype: float64"
      ]
     },
     "execution_count": 54,
     "metadata": {},
     "output_type": "execute_result"
    }
   ],
   "source": [
    "# Describe recall data for Toyota\n",
    "toyota_make_year_count.describe()"
   ]
  },
  {
   "cell_type": "code",
   "execution_count": 20,
   "metadata": {},
   "outputs": [
    {
     "data": {
      "image/png": "[encoded data removed]",
      "text/plain": [
       "<Figure size 432x288 with 1 Axes>"
      ]
     },
     "metadata": {
      "needs_background": "light"
     },
     "output_type": "display_data"
    }
   ],
   "source": [
    "toyota_make_year_count.sort_index().plot(kind = \"bar\")\n",
    "plt.title('Toyota Recalls')\n",
    "plt.xlabel('Year')\n",
    "plt.ylabel('Recalls')\n",
    "\n",
    "plt.savefig('Output/ToyotaRecalls')\n",
    "plt.show()"
   ]
  },
  {
   "cell_type": "code",
   "execution_count": 21,
   "metadata": {},
   "outputs": [
    {
     "data": {
      "text/html": [
       "<div>\n",
       "<style scoped>\n",
       "    .dataframe tbody tr th:only-of-type {\n",
       "        vertical-align: middle;\n",
       "    }\n",
       "\n",
       "    .dataframe tbody tr th {\n",
       "        vertical-align: top;\n",
       "    }\n",
       "\n",
       "    .dataframe thead th {\n",
       "        text-align: right;\n",
       "    }\n",
       "</style>\n",
       "<table border=\"1\" class=\"dataframe\">\n",
       "  <thead>\n",
       "    <tr style=\"text-align: right;\">\n",
       "      <th></th>\n",
       "      <th>Model Year</th>\n",
       "    </tr>\n",
       "  </thead>\n",
       "  <tbody>\n",
       "    <tr>\n",
       "      <th>2008</th>\n",
       "      <td>79</td>\n",
       "    </tr>\n",
       "    <tr>\n",
       "      <th>2009</th>\n",
       "      <td>71</td>\n",
       "    </tr>\n",
       "    <tr>\n",
       "      <th>2010</th>\n",
       "      <td>50</td>\n",
       "    </tr>\n",
       "    <tr>\n",
       "      <th>2011</th>\n",
       "      <td>71</td>\n",
       "    </tr>\n",
       "    <tr>\n",
       "      <th>2012</th>\n",
       "      <td>61</td>\n",
       "    </tr>\n",
       "    <tr>\n",
       "      <th>2013</th>\n",
       "      <td>70</td>\n",
       "    </tr>\n",
       "    <tr>\n",
       "      <th>2014</th>\n",
       "      <td>111</td>\n",
       "    </tr>\n",
       "    <tr>\n",
       "      <th>2015</th>\n",
       "      <td>107</td>\n",
       "    </tr>\n",
       "    <tr>\n",
       "      <th>2016</th>\n",
       "      <td>74</td>\n",
       "    </tr>\n",
       "    <tr>\n",
       "      <th>2017</th>\n",
       "      <td>29</td>\n",
       "    </tr>\n",
       "  </tbody>\n",
       "</table>\n",
       "</div>"
      ],
      "text/plain": [
       "      Model Year\n",
       "2008          79\n",
       "2009          71\n",
       "2010          50\n",
       "2011          71\n",
       "2012          61\n",
       "2013          70\n",
       "2014         111\n",
       "2015         107\n",
       "2016          74\n",
       "2017          29"
      ]
     },
     "execution_count": 21,
     "metadata": {},
     "output_type": "execute_result"
    }
   ],
   "source": [
    "chevrolet_make_year = test.loc[(test['Model Year'] >= 2008) & (test['Model Year'] < 9999)& (test['Recall Type'] == 'VEHICLE') ]\n",
    "\n",
    "chevrolet_make_year2 = chevrolet_make_year.loc[(chevrolet_make_year['Vehicle Make'] == 'CHEVROLET')]\n",
    "\n",
    "chevrolet_make_year_count = (chevrolet_make_year2[\"Model Year\"].value_counts())\n",
    "(chevrolet_make_year_count.sort_index()).to_frame()\n",
    "\n",
    "\n",
    "\n"
   ]
  },
  {
   "cell_type": "code",
   "execution_count": 55,
   "metadata": {},
   "outputs": [
    {
     "data": {
      "text/plain": [
       "count     10.000000\n",
       "mean      72.300000\n",
       "std       24.170919\n",
       "min       29.000000\n",
       "25%       63.250000\n",
       "50%       71.000000\n",
       "75%       77.750000\n",
       "max      111.000000\n",
       "Name: Model Year, dtype: float64"
      ]
     },
     "execution_count": 55,
     "metadata": {},
     "output_type": "execute_result"
    }
   ],
   "source": [
    "# Describe recall data for Chevrolet\n",
    "chevrolet_make_year_count.describe()"
   ]
  },
  {
   "cell_type": "code",
   "execution_count": 22,
   "metadata": {},
   "outputs": [
    {
     "data": {
      "image/png": "[encoded data removed]",
      "text/plain": [
       "<Figure size 432x288 with 1 Axes>"
      ]
     },
     "metadata": {
      "needs_background": "light"
     },
     "output_type": "display_data"
    }
   ],
   "source": [
    "chevrolet_make_year_count.sort_index().plot(kind = \"bar\")\n",
    "plt.title('Chevrolet Recalls')\n",
    "plt.xlabel('Year')\n",
    "plt.ylabel('Recalls')\n",
    "\n",
    "plt.savefig('Output/ChevroletRecalls')\n",
    "plt.show()"
   ]
  },
  {
   "cell_type": "code",
   "execution_count": 56,
   "metadata": {},
   "outputs": [
    {
     "data": {
      "image/png": "[encoded data removed]",
      "text/plain": [
       "<Figure size 432x288 with 1 Axes>"
      ]
     },
     "metadata": {
      "needs_background": "light"
     },
     "output_type": "display_data"
    }
   ],
   "source": [
    "# Top 5 Make Recalls per year\n",
    "plt.plot(chevrolet_make_year_count.sort_index(), label='Chevrolet Recalls')\n",
    "plt.plot(toyota_make_year_count.sort_index(), label='Toyota Recalls')\n",
    "plt.plot(freightliner_make_year_count.sort_index(), label='Freightliner Recalls')\n",
    "plt.plot(Peterbilt_make_year_count.sort_index(), label='Peterbilt Recalls')\n",
    "plt.plot(ford_make_year_count.sort_index(), label='Ford Recalls')\n",
    " \n",
    "plt.title(\"Top 5 Make Recalls Per year\")\n",
    "plt.xlabel(\"Year\")\n",
    "plt.ylabel(\"Recalls\")\n",
    "\n",
    "plt.legend()\n",
    "plt.savefig('Output/Top5Recalls')\n",
    "plt.show()"
   ]
  },
  {
   "cell_type": "code",
   "execution_count": 23,
   "metadata": {},
   "outputs": [
    {
     "data": {
      "text/html": [
       "<div>\n",
       "<style scoped>\n",
       "    .dataframe tbody tr th:only-of-type {\n",
       "        vertical-align: middle;\n",
       "    }\n",
       "\n",
       "    .dataframe tbody tr th {\n",
       "        vertical-align: top;\n",
       "    }\n",
       "\n",
       "    .dataframe thead th {\n",
       "        text-align: right;\n",
       "    }\n",
       "</style>\n",
       "<table border=\"1\" class=\"dataframe\">\n",
       "  <thead>\n",
       "    <tr style=\"text-align: right;\">\n",
       "      <th></th>\n",
       "      <th>Total Recalled Components</th>\n",
       "      <th>Total Count</th>\n",
       "    </tr>\n",
       "  </thead>\n",
       "  <tbody>\n",
       "    <tr>\n",
       "      <th>0</th>\n",
       "      <td>Equipment</td>\n",
       "      <td>7945</td>\n",
       "    </tr>\n",
       "    <tr>\n",
       "      <th>4</th>\n",
       "      <td>Engine</td>\n",
       "      <td>1383</td>\n",
       "    </tr>\n",
       "    <tr>\n",
       "      <th>1</th>\n",
       "      <td>Eletrical System</td>\n",
       "      <td>1303</td>\n",
       "    </tr>\n",
       "    <tr>\n",
       "      <th>2</th>\n",
       "      <td>Latches/Locks/Linkages</td>\n",
       "      <td>1246</td>\n",
       "    </tr>\n",
       "    <tr>\n",
       "      <th>3</th>\n",
       "      <td>Seats</td>\n",
       "      <td>793</td>\n",
       "    </tr>\n",
       "  </tbody>\n",
       "</table>\n",
       "</div>"
      ],
      "text/plain": [
       "  Total Recalled Components  Total Count\n",
       "0                 Equipment         7945\n",
       "4                    Engine         1383\n",
       "1          Eletrical System         1303\n",
       "2    Latches/Locks/Linkages         1246\n",
       "3                     Seats          793"
      ]
     },
     "execution_count": 23,
     "metadata": {},
     "output_type": "execute_result"
    }
   ],
   "source": [
    "#Top Recall Component\n",
    "total_recall_count=test2[\"Recall Component\"].value_counts()\n",
    "\n",
    "total_recall_count.head(10)\n",
    "\n",
    "equipment_count = total_recall_count[0] +total_recall_count[1] + total_recall_count[2]+total_recall_count[5]\n",
    "electrical_system = total_recall_count[3]\n",
    "tripleL = total_recall_count[4]\n",
    "seats = total_recall_count[6]\n",
    "engine = total_recall_count[7] +total_recall_count[8]\n",
    "\n",
    "total_recall_df=pd.DataFrame({\"Total Recalled Components\":[\"Equipment\",\"Eletrical System\",\"Latches/Locks/Linkages\",\"Seats\",\"Engine\"],\"Total Count\":[equipment_count,electrical_system,tripleL,seats,engine]})\n",
    "\n",
    "total_recall_df = total_recall_df.sort_values(by = 'Total Count',ascending = False)\n",
    "\n",
    "total_recall_df"
   ]
  },
  {
   "cell_type": "code",
   "execution_count": 24,
   "metadata": {},
   "outputs": [
    {
     "data": {
      "text/html": [
       "<div>\n",
       "<style scoped>\n",
       "    .dataframe tbody tr th:only-of-type {\n",
       "        vertical-align: middle;\n",
       "    }\n",
       "\n",
       "    .dataframe tbody tr th {\n",
       "        vertical-align: top;\n",
       "    }\n",
       "\n",
       "    .dataframe thead th {\n",
       "        text-align: right;\n",
       "    }\n",
       "</style>\n",
       "<table border=\"1\" class=\"dataframe\">\n",
       "  <thead>\n",
       "    <tr style=\"text-align: right;\">\n",
       "      <th></th>\n",
       "      <th>Ford Recalled Components</th>\n",
       "      <th>Total Count</th>\n",
       "    </tr>\n",
       "  </thead>\n",
       "  <tbody>\n",
       "    <tr>\n",
       "      <th>0</th>\n",
       "      <td>Equipment/Equipment Adaptive</td>\n",
       "      <td>463</td>\n",
       "    </tr>\n",
       "    <tr>\n",
       "      <th>1</th>\n",
       "      <td>Power Train</td>\n",
       "      <td>35</td>\n",
       "    </tr>\n",
       "    <tr>\n",
       "      <th>2</th>\n",
       "      <td>Engine and Engine Cooling</td>\n",
       "      <td>29</td>\n",
       "    </tr>\n",
       "    <tr>\n",
       "      <th>3</th>\n",
       "      <td>Air Bags</td>\n",
       "      <td>25</td>\n",
       "    </tr>\n",
       "    <tr>\n",
       "      <th>4</th>\n",
       "      <td>Latches/Locks/Linkages</td>\n",
       "      <td>21</td>\n",
       "    </tr>\n",
       "  </tbody>\n",
       "</table>\n",
       "</div>"
      ],
      "text/plain": [
       "       Ford Recalled Components  Total Count\n",
       "0  Equipment/Equipment Adaptive          463\n",
       "1                   Power Train           35\n",
       "2     Engine and Engine Cooling           29\n",
       "3                      Air Bags           25\n",
       "4        Latches/Locks/Linkages           21"
      ]
     },
     "execution_count": 24,
     "metadata": {},
     "output_type": "execute_result"
    }
   ],
   "source": [
    "#Ford top 5 Recall Component \n",
    "ford_recall_comp = ford_make_year2[\"Recall Component\"].value_counts()\n",
    "\n",
    "ford_recall_comp.head(10)\n",
    "\n",
    "fequipment_count = ford_recall_comp[0] + ford_recall_comp[1] + ford_recall_comp[9]\n",
    "fpower_train =  ford_recall_comp[2]\n",
    "fengine_enginecooling_count =  ford_recall_comp[3]\n",
    "fairbags_count =  ford_recall_comp[4]\n",
    "flatches_locks_link_count =  ford_recall_comp[5]\n",
    "\n",
    "ford_recall_df = pd.DataFrame({\"Ford Recalled Components\":[\"Equipment/Equipment Adaptive\",\"Power Train\",\"Engine and Engine Cooling\",\"Air Bags\",\"Latches/Locks/Linkages\"],\"Total Count\":[fequipment_count,fpower_train,fengine_enginecooling_count,fairbags_count ,flatches_locks_link_count ]})\n",
    "\n",
    "ford_recall_df=ford_recall_df.sort_values(by = 'Total Count',ascending = False)\n",
    "ford_recall_df"
   ]
  },
  {
   "cell_type": "code",
   "execution_count": 25,
   "metadata": {},
   "outputs": [
    {
     "data": {
      "text/html": [
       "<div>\n",
       "<style scoped>\n",
       "    .dataframe tbody tr th:only-of-type {\n",
       "        vertical-align: middle;\n",
       "    }\n",
       "\n",
       "    .dataframe tbody tr th {\n",
       "        vertical-align: top;\n",
       "    }\n",
       "\n",
       "    .dataframe thead th {\n",
       "        text-align: right;\n",
       "    }\n",
       "</style>\n",
       "<table border=\"1\" class=\"dataframe\">\n",
       "  <thead>\n",
       "    <tr style=\"text-align: right;\">\n",
       "      <th></th>\n",
       "      <th>Peterbilt Recalled Components</th>\n",
       "      <th>Total Counts</th>\n",
       "    </tr>\n",
       "  </thead>\n",
       "  <tbody>\n",
       "    <tr>\n",
       "      <th>0</th>\n",
       "      <td>Equipment</td>\n",
       "      <td>172</td>\n",
       "    </tr>\n",
       "    <tr>\n",
       "      <th>1</th>\n",
       "      <td>Tires</td>\n",
       "      <td>158</td>\n",
       "    </tr>\n",
       "    <tr>\n",
       "      <th>2</th>\n",
       "      <td>Electircal System</td>\n",
       "      <td>117</td>\n",
       "    </tr>\n",
       "    <tr>\n",
       "      <th>3</th>\n",
       "      <td>Engine and Engine Cooling</td>\n",
       "      <td>101</td>\n",
       "    </tr>\n",
       "    <tr>\n",
       "      <th>4</th>\n",
       "      <td>Air Bag</td>\n",
       "      <td>42</td>\n",
       "    </tr>\n",
       "  </tbody>\n",
       "</table>\n",
       "</div>"
      ],
      "text/plain": [
       "  Peterbilt Recalled Components  Total Counts\n",
       "0                     Equipment           172\n",
       "1                         Tires           158\n",
       "2             Electircal System           117\n",
       "3     Engine and Engine Cooling           101\n",
       "4                       Air Bag            42"
      ]
     },
     "execution_count": 25,
     "metadata": {},
     "output_type": "execute_result"
    }
   ],
   "source": [
    "Peterbilt_recall_comp = Peterbilt_make_year2[\"Recall Component\"].value_counts()\n",
    "\n",
    "Peterbilt_recall_comp.head(10)\n",
    "\n",
    "plabels = Peterbilt_recall_comp[0]\n",
    "ptires = Peterbilt_recall_comp[1]\n",
    "pelectrical_alternator = Peterbilt_recall_comp[2] + Peterbilt_recall_comp[5]\n",
    "pengine_cooling = Peterbilt_recall_comp[3] +Peterbilt_recall_comp[8]\n",
    "pair_bags = Peterbilt_recall_comp[5]\n",
    "\n",
    "peterbilt_recall_df = pd.DataFrame({\"Peterbilt Recalled Components\":[\"Equipment\",\"Tires\",\"Electircal System\",\"Engine and Engine Cooling\",\"Air Bag\"],\"Total Counts\":[plabels,ptires,pelectrical_alternator,pengine_cooling,pair_bags]})\n",
    "\n",
    "peterbilt_recall_df\n"
   ]
  },
  {
   "cell_type": "code",
   "execution_count": 26,
   "metadata": {},
   "outputs": [
    {
     "data": {
      "text/html": [
       "<div>\n",
       "<style scoped>\n",
       "    .dataframe tbody tr th:only-of-type {\n",
       "        vertical-align: middle;\n",
       "    }\n",
       "\n",
       "    .dataframe tbody tr th {\n",
       "        vertical-align: top;\n",
       "    }\n",
       "\n",
       "    .dataframe thead th {\n",
       "        text-align: right;\n",
       "    }\n",
       "</style>\n",
       "<table border=\"1\" class=\"dataframe\">\n",
       "  <thead>\n",
       "    <tr style=\"text-align: right;\">\n",
       "      <th></th>\n",
       "      <th>Freightliner Recalled Components</th>\n",
       "      <th>Total Counts</th>\n",
       "    </tr>\n",
       "  </thead>\n",
       "  <tbody>\n",
       "    <tr>\n",
       "      <th>0</th>\n",
       "      <td>Engine and Engine Cooling</td>\n",
       "      <td>185</td>\n",
       "    </tr>\n",
       "    <tr>\n",
       "      <th>1</th>\n",
       "      <td>Service Brakes</td>\n",
       "      <td>46</td>\n",
       "    </tr>\n",
       "    <tr>\n",
       "      <th>2</th>\n",
       "      <td>Fuel System</td>\n",
       "      <td>30</td>\n",
       "    </tr>\n",
       "    <tr>\n",
       "      <th>3</th>\n",
       "      <td>Trailer Hitches</td>\n",
       "      <td>29</td>\n",
       "    </tr>\n",
       "    <tr>\n",
       "      <th>4</th>\n",
       "      <td>Steering</td>\n",
       "      <td>29</td>\n",
       "    </tr>\n",
       "  </tbody>\n",
       "</table>\n",
       "</div>"
      ],
      "text/plain": [
       "  Freightliner Recalled Components  Total Counts\n",
       "0        Engine and Engine Cooling           185\n",
       "1                   Service Brakes            46\n",
       "2                      Fuel System            30\n",
       "3                  Trailer Hitches            29\n",
       "4                         Steering            29"
      ]
     },
     "execution_count": 26,
     "metadata": {},
     "output_type": "execute_result"
    }
   ],
   "source": [
    "freightliner_recall_comp = freightliner_make_year2[\"Recall Component\"].value_counts()\n",
    "\n",
    "freightliner_recall_comp.head(10)\n",
    "\n",
    "frengine_cooling = freightliner_recall_comp[0] + freightliner_recall_comp[1] + freightliner_recall_comp[3]\n",
    "service_brakes = freightliner_recall_comp[2]\n",
    "fules_system = freightliner_recall_comp[4]\n",
    "trailer_hitches = freightliner_recall_comp[5]\n",
    "steering = freightliner_recall_comp[6]\n",
    "\n",
    "freightliner_df = pd.DataFrame({\"Freightliner Recalled Components\":[\"Engine and Engine Cooling\",\"Service Brakes\",\"Fuel System\",\"Trailer Hitches\",\"Steering\"],\"Total Counts\":[frengine_cooling,service_brakes,fules_system,trailer_hitches,steering]})\n",
    "freightliner_df"
   ]
  },
  {
   "cell_type": "code",
   "execution_count": 27,
   "metadata": {},
   "outputs": [
    {
     "data": {
      "text/html": [
       "<div>\n",
       "<style scoped>\n",
       "    .dataframe tbody tr th:only-of-type {\n",
       "        vertical-align: middle;\n",
       "    }\n",
       "\n",
       "    .dataframe tbody tr th {\n",
       "        vertical-align: top;\n",
       "    }\n",
       "\n",
       "    .dataframe thead th {\n",
       "        text-align: right;\n",
       "    }\n",
       "</style>\n",
       "<table border=\"1\" class=\"dataframe\">\n",
       "  <thead>\n",
       "    <tr style=\"text-align: right;\">\n",
       "      <th></th>\n",
       "      <th>Toyota Recalled Components</th>\n",
       "      <th>Total Counts</th>\n",
       "    </tr>\n",
       "  </thead>\n",
       "  <tbody>\n",
       "    <tr>\n",
       "      <th>0</th>\n",
       "      <td>Equipment</td>\n",
       "      <td>180</td>\n",
       "    </tr>\n",
       "    <tr>\n",
       "      <th>1</th>\n",
       "      <td>Seats</td>\n",
       "      <td>180</td>\n",
       "    </tr>\n",
       "    <tr>\n",
       "      <th>2</th>\n",
       "      <td>Air Bags</td>\n",
       "      <td>97</td>\n",
       "    </tr>\n",
       "    <tr>\n",
       "      <th>3</th>\n",
       "      <td>Speed Controler</td>\n",
       "      <td>54</td>\n",
       "    </tr>\n",
       "    <tr>\n",
       "      <th>4</th>\n",
       "      <td>Visibility</td>\n",
       "      <td>43</td>\n",
       "    </tr>\n",
       "  </tbody>\n",
       "</table>\n",
       "</div>"
      ],
      "text/plain": [
       "  Toyota Recalled Components  Total Counts\n",
       "0                  Equipment           180\n",
       "1                      Seats           180\n",
       "2                   Air Bags            97\n",
       "3            Speed Controler            54\n",
       "4                 Visibility            43"
      ]
     },
     "execution_count": 27,
     "metadata": {},
     "output_type": "execute_result"
    }
   ],
   "source": [
    "toyota_recall_comp = toyota_make_year2[\"Recall Component\"].value_counts()\n",
    "toyota_recall_comp.head(10)\n",
    "\n",
    "tseats = toyota_recall_comp[1] + toyota_recall_comp[2]\n",
    "tequipment = toyota_recall_comp[0]\n",
    "tairbags = toyota_recall_comp[3] + toyota_recall_comp[9] + toyota_recall_comp[7]\n",
    "tspeed_contr = toyota_recall_comp[4]\n",
    "tvisibility = toyota_recall_comp[5]\n",
    "\n",
    "toyota_df = pd.DataFrame({\"Toyota Recalled Components\":[\"Equipment\",\"Seats\",\"Air Bags\",\"Speed Controler\",\"Visibility\"],\"Total Counts\":[tequipment,tequipment,tairbags,tspeed_contr,tvisibility]})\n",
    "\n",
    "toyota_df"
   ]
  },
  {
   "cell_type": "code",
   "execution_count": 28,
   "metadata": {},
   "outputs": [
    {
     "data": {
      "text/html": [
       "<div>\n",
       "<style scoped>\n",
       "    .dataframe tbody tr th:only-of-type {\n",
       "        vertical-align: middle;\n",
       "    }\n",
       "\n",
       "    .dataframe tbody tr th {\n",
       "        vertical-align: top;\n",
       "    }\n",
       "\n",
       "    .dataframe thead th {\n",
       "        text-align: right;\n",
       "    }\n",
       "</style>\n",
       "<table border=\"1\" class=\"dataframe\">\n",
       "  <thead>\n",
       "    <tr style=\"text-align: right;\">\n",
       "      <th></th>\n",
       "      <th>Chevrolet Recalled Components</th>\n",
       "      <th>Total Counts</th>\n",
       "    </tr>\n",
       "  </thead>\n",
       "  <tbody>\n",
       "    <tr>\n",
       "      <th>0</th>\n",
       "      <td>Electrical System</td>\n",
       "      <td>113</td>\n",
       "    </tr>\n",
       "    <tr>\n",
       "      <th>1</th>\n",
       "      <td>Air Bags</td>\n",
       "      <td>136</td>\n",
       "    </tr>\n",
       "    <tr>\n",
       "      <th>2</th>\n",
       "      <td>Equipment</td>\n",
       "      <td>45</td>\n",
       "    </tr>\n",
       "    <tr>\n",
       "      <th>3</th>\n",
       "      <td>Seat Belts</td>\n",
       "      <td>34</td>\n",
       "    </tr>\n",
       "    <tr>\n",
       "      <th>4</th>\n",
       "      <td>Steering</td>\n",
       "      <td>17</td>\n",
       "    </tr>\n",
       "  </tbody>\n",
       "</table>\n",
       "</div>"
      ],
      "text/plain": [
       "  Chevrolet Recalled Components  Total Counts\n",
       "0             Electrical System           113\n",
       "1                      Air Bags           136\n",
       "2                     Equipment            45\n",
       "3                    Seat Belts            34\n",
       "4                      Steering            17"
      ]
     },
     "execution_count": 28,
     "metadata": {},
     "output_type": "execute_result"
    }
   ],
   "source": [
    "chevrolet_recall_comp = chevrolet_make_year2[\"Recall Component\"].value_counts()\n",
    "chevrolet_recall_comp.head(15)\n",
    "\n",
    "celectrical_system = chevrolet_recall_comp[0] + chevrolet_recall_comp[7] + chevrolet_recall_comp[2]\n",
    "cairbags = chevrolet_recall_comp[1] + chevrolet_recall_comp[3] + chevrolet_recall_comp[5] +chevrolet_recall_comp[6]\n",
    "cequipment = chevrolet_recall_comp[9] + chevrolet_recall_comp[8]\n",
    "cseat_belts = chevrolet_recall_comp[4]\n",
    "csteering = chevrolet_recall_comp[10]\n",
    "\n",
    "chev_df = pd.DataFrame({\"Chevrolet Recalled Components\":[\"Electrical System\",\"Air Bags\",\"Equipment\",\"Seat Belts\",\"Steering\"],\"Total Counts\":[celectrical_system,cairbags,cequipment,cseat_belts,csteering]})\n",
    "\n",
    "chev_df"
   ]
  },
  {
   "cell_type": "code",
   "execution_count": null,
   "metadata": {},
   "outputs": [],
   "source": []
  },
  {
   "cell_type": "code",
   "execution_count": null,
   "metadata": {},
   "outputs": [],
   "source": []
  }
 ],
 "metadata": {
  "kernelspec": {
   "display_name": "Python 3",
   "language": "python",
   "name": "python3"
  },
  "language_info": {
   "codemirror_mode": {
    "name": "ipython",
    "version": 3
   },
   "file_extension": ".py",
   "mimetype": "text/x-python",
   "name": "python",
   "nbconvert_exporter": "python",
   "pygments_lexer": "ipython3",
   "version": "3.8.5"
  }
 },
 "nbformat": 4,
 "nbformat_minor": 4
}
